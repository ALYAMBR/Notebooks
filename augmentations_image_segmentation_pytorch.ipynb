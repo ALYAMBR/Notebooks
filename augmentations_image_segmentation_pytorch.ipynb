{
  "nbformat": 4,
  "nbformat_minor": 0,
  "metadata": {
    "colab": {
      "name": "augmentations_image_segmentation_pytorch.ipynb",
      "provenance": [],
      "authorship_tag": "ABX9TyPeBrpQYblNizBc25mhXfWE",
      "include_colab_link": true
    },
    "kernelspec": {
      "name": "python3",
      "display_name": "Python 3"
    }
  },
  "cells": [
    {
      "cell_type": "markdown",
      "metadata": {
        "id": "view-in-github",
        "colab_type": "text"
      },
      "source": [
        "<a href=\"https://colab.research.google.com/github/ALYAMBR/Notebooks/blob/master/augmentations_image_segmentation_pytorch.ipynb\" target=\"_parent\"><img src=\"https://colab.research.google.com/assets/colab-badge.svg\" alt=\"Open In Colab\"/></a>"
      ]
    },
    {
      "cell_type": "markdown",
      "metadata": {
        "id": "35IwUrpp2jJu"
      },
      "source": [
        "Sketches for image augmentations in segmentation problem."
      ]
    },
    {
      "cell_type": "code",
      "metadata": {
        "id": "fZGmHlwd3HYu"
      },
      "source": [
        "import numpy as np\n",
        "from skimage import io, transform\n",
        "from torchvision import transforms, utils\n",
        "from torch.utils.data import Dataset, DataLoader\n",
        "import torch\n",
        "import torch.nn as nn\n",
        "import torch.utils.data as data\n",
        "from torchvision.transforms import RandomRotation\n",
        "import torchvision.transforms.functional as TF\n",
        "import random\n",
        "import torch.optim as optim\n",
        "import torch.nn.functional as F"
      ],
      "execution_count": null,
      "outputs": []
    },
    {
      "cell_type": "code",
      "metadata": {
        "id": "QnlhboRcKI-5"
      },
      "source": [
        "class ToTensor(object):\n",
        "    def __call__(self, image, mask):\n",
        "        im_tens = torch.IntTensor(image).permute(2, 1, 0)\n",
        "        ms_tens = torch.IntTensor(mask).permute(2, 1, 0)\n",
        "        return im_tens, ms_tens"
      ],
      "execution_count": null,
      "outputs": []
    },
    {
      "cell_type": "code",
      "metadata": {
        "id": "L_C6FnaGy_IL"
      },
      "source": [
        "class RandRot(object):\n",
        "    def __init__(self, maxdeg=45):\n",
        "        self.max_deg = maxdeg\n",
        "    \n",
        "    def __call__(self, image, mask):\n",
        "        rot_angle = random.randint(-self.max_deg, self.max_deg)\n",
        "        rot_image = TF.rotate(image, angle=rot_angle)\n",
        "        rot_mask = TF.rotate(mask, angle=rot_angle)\n",
        "        return rot_image, rot_mask"
      ],
      "execution_count": null,
      "outputs": []
    },
    {
      "cell_type": "code",
      "metadata": {
        "id": "BORcDhy2NnwL"
      },
      "source": [
        "class RandShear(object):\n",
        "    def __init__(self, x_maxdeg=20, y_maxdeg=20):\n",
        "        self.x_max_deg = x_maxdeg\n",
        "        self.y_max_deg = y_maxdeg\n",
        "\n",
        "    def __call__(self, image, mask):\n",
        "        x_deg = random.randint(-self.x_max_deg, self.x_max_deg)\n",
        "        y_deg = random.randint(-self.y_max_deg, self.y_max_deg)\n",
        "        shear_image = TF.affine(image, 0, [0, 0], 1,  shear=[x_deg, y_deg])\n",
        "        shear_mask = TF.affine(mask, 0, [0, 0], 1, shear=[x_deg, y_deg])\n",
        "        return shear_image, shear_mask"
      ],
      "execution_count": null,
      "outputs": []
    },
    {
      "cell_type": "code",
      "metadata": {
        "id": "SUgx4lgwVGzR"
      },
      "source": [
        "class RandCenterCrop(object):\n",
        "    def __init__(self, max_crop_percent = 0.2):\n",
        "        self.max_crop_coef = max_crop_percent\n",
        "\n",
        "    def __call__(self, image, mask):\n",
        "        im_h = image.shape[1]\n",
        "        im_w = image.shape[2]\n",
        "        ms_h = mask.shape[1]\n",
        "        ms_w = mask.shape[2]\n",
        "        crop_coef = 1 - random.uniform(0, self.max_crop_coef)\n",
        "        croped_im = TF.center_crop(image, [int(im_h * crop_coef), int(im_w * crop_coef)])\n",
        "        croped_ms = TF.center_crop(mask, [int(ms_h * crop_coef), int(ms_w * crop_coef)])\n",
        "        return croped_im, croped_ms"
      ],
      "execution_count": null,
      "outputs": []
    },
    {
      "cell_type": "code",
      "metadata": {
        "id": "UBx-Is6vVaZ1"
      },
      "source": [
        "class RandPadding(object):\n",
        "    def __init__(self, max_pad_percent = 0.3):\n",
        "        self.max_pad_coef = max_pad_percent\n",
        "\n",
        "    def __call__(self, image, mask):\n",
        "        coef = random.uniform(0, self.max_pad_coef)\n",
        "        h_coef = random.uniform(0, 1)\n",
        "        w_coef = random.uniform(0, 1)\n",
        "        rh_coef = 1 - h_coef\n",
        "        rw_coef = 1 - w_coef\n",
        "        im_h = image.shape[1] * coef\n",
        "        im_w = image.shape[2] * coef\n",
        "        ms_h = mask.shape[1] * coef\n",
        "        ms_w = mask.shape[2] * coef\n",
        "        pad_im = TF.pad(image, [int(im_w * w_coef),\n",
        "                                int(im_h * h_coef),\n",
        "                                int(im_w * rw_coef),\n",
        "                                int(im_h * rh_coef)])\n",
        "        pad_ms = TF.pad(mask, [int(ms_w * w_coef),\n",
        "                               int(ms_h * h_coef),\n",
        "                               int(ms_w * rw_coef),\n",
        "                               int(ms_h * rh_coef)])\n",
        "        return pad_im, pad_ms"
      ],
      "execution_count": null,
      "outputs": []
    },
    {
      "cell_type": "code",
      "metadata": {
        "id": "vycEEx8JalPB"
      },
      "source": [
        "class RandColorTransform(object):\n",
        "    def __init__(self, max_bright=0.3, max_contrast=0.3, max_satur=0.3, max_sharp=0.7):\n",
        "        self.bright_max = max_bright\n",
        "        self.contrast_max = max_contrast\n",
        "        self.satur_max = max_satur\n",
        "        self.sharp_max = max_sharp\n",
        "\n",
        "    def __call__(self, image, mask):\n",
        "        # mask doesn't need these transformations!\n",
        "        bright = 1 + random.uniform(-self.bright_max, self.bright_max)\n",
        "        contrast = 1 + random.uniform(-self.contrast_max, self.contrast_max)\n",
        "        satur = 1 + random.uniform(-self.satur_max, self.satur_max)\n",
        "        sharp = 1 + random.uniform(-self.sharp_max, self.sharp_max)\n",
        "\n",
        "        bright_image = TF.adjust_brightness(image, bright)\n",
        "        contrast_image = TF.adjust_contrast(bright_image, contrast)\n",
        "        satur_image = TF.adjust_saturation(contrast_image, satur)\n",
        "        sharp_image = TF.adjust_sharpness(satur_image, sharp)\n",
        "\n",
        "        return sharp_image, mask"
      ],
      "execution_count": null,
      "outputs": []
    },
    {
      "cell_type": "code",
      "metadata": {
        "id": "dTVBSm3vtKTZ"
      },
      "source": [
        "class SampleResize(object):\n",
        "    def __init__(self, width=512, height=512):\n",
        "        self.width = width\n",
        "        self.height = height\n",
        "\n",
        "    def __call__(self, image, mask):\n",
        "        image = TF.resize(image, [self.height, self.width])\n",
        "        mask = TF.resize(mask, [self.height, self.width])\n",
        "        return image, mask"
      ],
      "execution_count": null,
      "outputs": []
    },
    {
      "cell_type": "code",
      "metadata": {
        "id": "yFnq9nWALQQX"
      },
      "source": [
        "class TensorToNumpy(object):\n",
        "    def __call__(self, image, mask):\n",
        "        # im_np = image.permute(2, 1, 0).numpy()\n",
        "        # ms_np = mask.permute(2, 1, 0).numpy()\n",
        "        im_np = image.numpy()\n",
        "        ms_np = mask.numpy()\n",
        "        return im_np, ms_np"
      ],
      "execution_count": null,
      "outputs": []
    },
    {
      "cell_type": "code",
      "metadata": {
        "id": "yopHhnB3ul-r"
      },
      "source": [
        "class Normalizer(object):\n",
        "    def __call__(self, image, mask):\n",
        "        # mask must be int type with vals 0 and 1 only\n",
        "        image = image.astype(float) / 255.0\n",
        "        return image, mask"
      ],
      "execution_count": null,
      "outputs": []
    },
    {
      "cell_type": "code",
      "metadata": {
        "id": "qnZ_nu6sPioi"
      },
      "source": [
        "class DataLoaderSegmentation(data.Dataset):\n",
        "    def __init__(self, folder_path, names_list, transform=False):\n",
        "        super(DataLoaderSegmentation, self).__init__()\n",
        "        self.img_files = glob(os.path.join(folder_path,'images','*'))\n",
        "        temp_img_files = self.img_files.copy()\n",
        "        for img_path in temp_img_files:\n",
        "            if not img_path.split(sep='/')[-1] in names_list:\n",
        "                self.img_files.remove(img_path)\n",
        "        self.mask_files = []\n",
        "        for img_path in self.img_files:\n",
        "            self.mask_files.append(os.path.join(folder_path, 'masks',\n",
        "                                                os.path.basename(img_path)))\n",
        "        self.to_tensor = ToTensor()\n",
        "        self.rand_rot = RandRot()\n",
        "        self.rand_shear = RandShear()\n",
        "        self.rand_center_crop = RandCenterCrop()\n",
        "        self.rand_pad = RandPadding()\n",
        "        self.rand_color_trans = RandColorTransform()\n",
        "        self.tensor_to_numpy = TensorToNumpy()\n",
        "        self.resize = SampleResize()\n",
        "        self.normalize = Normalizer()\n",
        "        self.transform = transform\n",
        "    \n",
        "    def __getitem__(self, index):\n",
        "        if type(index) == int:\n",
        "            index = [index]\n",
        "        batch_X, batch_Y =[], []\n",
        "        for i in index:\n",
        "            img_path = self.img_files[i]\n",
        "            mask_path = self.mask_files[i]\n",
        "            img = io.imread(img_path)\n",
        "            mask = io.imread(mask_path)\n",
        "\n",
        "            mask = (mask > 100) # True на месте цветных пикселей (маски), False на фоне\n",
        "            mask = mask.astype(int) # 1 на месте масок и 0 на месте фона\n",
        "\n",
        "            img, mask = self.to_tensor(img, mask) # Перевод в виде, \n",
        "                                                # удобный для аугментаций (C, H, W)\n",
        "\n",
        "            if self.transform == True:\n",
        "                img, mask = self.rand_rot(img, mask)\n",
        "                img, mask = self.rand_shear(img, mask)\n",
        "                img, mask = self.rand_center_crop(img, mask)\n",
        "                img, mask = self.rand_pad(img, mask)\n",
        "                img, mask = self.rand_color_trans(img, mask)\n",
        "\n",
        "            img, mask = self.resize(img, mask)\n",
        "            img, mask = self.tensor_to_numpy(img, mask) # Перевод в массив numpy (W, H, C)\n",
        "            img, mask = self.normalize(img, mask)\n",
        "            batch_X.append(img)\n",
        "            batch_Y.append(mask)\n",
        "        batch_X = np.array(batch_X)\n",
        "        batch_Y = np.array(batch_Y)\n",
        "        return torch.from_numpy(batch_X).float(), torch.from_numpy(batch_Y).float()\n",
        "\n",
        "    def __len__(self):\n",
        "        return len(self.img_files)\n",
        "\n",
        "    def get_len(self):\n",
        "        return len(self.img_files)"
      ],
      "execution_count": null,
      "outputs": []
    }
  ]
}