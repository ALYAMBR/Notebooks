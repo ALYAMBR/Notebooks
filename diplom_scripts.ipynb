{
  "nbformat": 4,
  "nbformat_minor": 0,
  "metadata": {
    "colab": {
      "name": "diplom_scripts.ipynb",
      "provenance": [],
      "collapsed_sections": [],
      "mount_file_id": "1j6K2z-qrCBrHq6-Xve5J0CCAKPYgXiub",
      "authorship_tag": "ABX9TyNi0e46IK3SVOmElF5+15mI",
      "include_colab_link": true
    },
    "kernelspec": {
      "name": "python3",
      "display_name": "Python 3"
    }
  },
  "cells": [
    {
      "cell_type": "markdown",
      "metadata": {
        "id": "view-in-github",
        "colab_type": "text"
      },
      "source": [
        "<a href=\"https://colab.research.google.com/github/ALYAMBR/Notebooks/blob/master/diplom_scripts.ipynb\" target=\"_parent\"><img src=\"https://colab.research.google.com/assets/colab-badge.svg\" alt=\"Open In Colab\"/></a>"
      ]
    },
    {
      "cell_type": "markdown",
      "metadata": {
        "id": "53493DZK3xEe"
      },
      "source": [
        "#Генерация временных периодов"
      ]
    },
    {
      "cell_type": "code",
      "metadata": {
        "id": "KtacWIG731gd"
      },
      "source": [
        "import pandas as pd\n",
        "import numpy as np"
      ],
      "execution_count": null,
      "outputs": []
    },
    {
      "cell_type": "code",
      "metadata": {
        "id": "mOz_HJPw2NhZ"
      },
      "source": [
        "start_date = np.datetime64(\"1999-08-04T12:00\")"
      ],
      "execution_count": null,
      "outputs": []
    },
    {
      "cell_type": "code",
      "metadata": {
        "id": "a0HD4KmbeczP"
      },
      "source": [
        "period = np.timedelta64(160, 'D')"
      ],
      "execution_count": null,
      "outputs": []
    },
    {
      "cell_type": "code",
      "metadata": {
        "id": "ot_LBmMtevp3"
      },
      "source": [
        "finish_date = np.datetime64(\"2019-05-07T12:00\")"
      ],
      "execution_count": null,
      "outputs": []
    },
    {
      "cell_type": "code",
      "metadata": {
        "id": "zFDQL6oJis5T"
      },
      "source": [
        "dates = [start_date]"
      ],
      "execution_count": null,
      "outputs": []
    },
    {
      "cell_type": "code",
      "metadata": {
        "id": "BwBE7P-ti36b"
      },
      "source": [
        "while start_date <= finish_date:\n",
        "    dates.append(start_date + period)\n",
        "    start_date += period"
      ],
      "execution_count": null,
      "outputs": []
    },
    {
      "cell_type": "code",
      "metadata": {
        "id": "HECcXB6UjMW0"
      },
      "source": [
        "str_dates = []"
      ],
      "execution_count": null,
      "outputs": []
    },
    {
      "cell_type": "code",
      "metadata": {
        "id": "EAmcXRaqjCeT"
      },
      "source": [
        "for date in dates:\n",
        "    str_dates.append(str(date))"
      ],
      "execution_count": null,
      "outputs": []
    },
    {
      "cell_type": "code",
      "metadata": {
        "id": "LHiBXcILjf8N",
        "colab": {
          "base_uri": "https://localhost:8080/"
        },
        "outputId": "5edb7e91-4631-4245-899b-16ab8e2073db"
      },
      "source": [
        "str_dates"
      ],
      "execution_count": null,
      "outputs": [
        {
          "output_type": "execute_result",
          "data": {
            "text/plain": [
              "['1999-08-04T12:00',\n",
              " '2000-01-11T12:00',\n",
              " '2000-06-19T12:00',\n",
              " '2000-11-26T12:00',\n",
              " '2001-05-05T12:00',\n",
              " '2001-10-12T12:00',\n",
              " '2002-03-21T12:00',\n",
              " '2002-08-28T12:00',\n",
              " '2003-02-04T12:00',\n",
              " '2003-07-14T12:00',\n",
              " '2003-12-21T12:00',\n",
              " '2004-05-29T12:00',\n",
              " '2004-11-05T12:00',\n",
              " '2005-04-14T12:00',\n",
              " '2005-09-21T12:00',\n",
              " '2006-02-28T12:00',\n",
              " '2006-08-07T12:00',\n",
              " '2007-01-14T12:00',\n",
              " '2007-06-23T12:00',\n",
              " '2007-11-30T12:00',\n",
              " '2008-05-08T12:00',\n",
              " '2008-10-15T12:00',\n",
              " '2009-03-24T12:00',\n",
              " '2009-08-31T12:00',\n",
              " '2010-02-07T12:00',\n",
              " '2010-07-17T12:00',\n",
              " '2010-12-24T12:00',\n",
              " '2011-06-02T12:00',\n",
              " '2011-11-09T12:00',\n",
              " '2012-04-17T12:00',\n",
              " '2012-09-24T12:00',\n",
              " '2013-03-03T12:00',\n",
              " '2013-08-10T12:00',\n",
              " '2014-01-17T12:00',\n",
              " '2014-06-26T12:00',\n",
              " '2014-12-03T12:00',\n",
              " '2015-05-12T12:00',\n",
              " '2015-10-19T12:00',\n",
              " '2016-03-27T12:00',\n",
              " '2016-09-03T12:00',\n",
              " '2017-02-10T12:00',\n",
              " '2017-07-20T12:00',\n",
              " '2017-12-27T12:00',\n",
              " '2018-06-05T12:00',\n",
              " '2018-11-12T12:00',\n",
              " '2019-04-21T12:00',\n",
              " '2019-09-28T12:00']"
            ]
          },
          "metadata": {
            "tags": []
          },
          "execution_count": 9
        }
      ]
    },
    {
      "cell_type": "markdown",
      "metadata": {
        "id": "Q3KCir8j5Ocj"
      },
      "source": [
        "#Генерация скриптов run.sh"
      ]
    },
    {
      "cell_type": "code",
      "metadata": {
        "id": "K_UrNCKq5R_F"
      },
      "source": [
        "script_part_1 = '#!/bin/bash\\n TOOL=\"valgrind --tool=callgrind --simulate-cache=yes --dump-instr=yes\"\\n TOOL=\"/software/bin/valgrind --tool=memcheck --leak-check=full --show-reachable=yes --track-origins=yes --log-fd=2\"\\n TOOL=\"time\"\\n TOOL=\"\" \\n ${TOOL} snowpack -c exper1.ini -m operational  STATION1 -b '\n",
        "script_part_2 = ' -e '"
      ],
      "execution_count": null,
      "outputs": []
    },
    {
      "cell_type": "code",
      "metadata": {
        "id": "BVFq8-uZ6Z-c"
      },
      "source": [
        "leng = len(str_dates)"
      ],
      "execution_count": null,
      "outputs": []
    },
    {
      "cell_type": "code",
      "metadata": {
        "id": "f4r07MJb9cct"
      },
      "source": [
        "for i, start_date in enumerate(str_dates):\n",
        "    if i == leng - 1:\n",
        "        break\n",
        "    f = open(\"/content/drive/MyDrive/Diplom/run_scripts/run\"+str(i)+\".sh\", \"x\")\n",
        "    f.write(script_part_1 + start_date + script_part_2 + str_dates[i + 1])\n",
        "    f.close()"
      ],
      "execution_count": null,
      "outputs": []
    },
    {
      "cell_type": "markdown",
      "metadata": {
        "id": "Ei7bW7cSRvLs"
      },
      "source": [
        "#Парсер снежных слоёв"
      ]
    },
    {
      "cell_type": "markdown",
      "metadata": {
        "id": "CeLiSw2NR5Uv"
      },
      "source": [
        "```\n",
        "Нужно выпарсить такие строки и сохранить их в csv:\n",
        "\n",
        "0500,Date\n",
        "0509,nElems,sphericity (1) - среднее\n",
        "0530,8,position (cm) and minimum stability indices:\n",
        "    profile type, stability class, z_Sdef, Sdef, z_Sn38, Sn38, z_Sk38, Sk38\n",
        "0534,nElems,hand hardness either (N) or index steps (1) - среднее\n",
        "0601,nElems,snow shear strength (kPa) - среднее\n",
        "\n",
        "\n",
        "Пример:\n",
        "\n",
        "0500,19.02.2001 12:00:00\n",
        "\n",
        "0509,98,1.00,1.00,1.00,1.00,1.00,1.00,1.00,1.00,1.00,1.00,1.00,1.00,1.00,1.00,\n",
        "    1.00,1.00,1.00,1.00,1.00,1.00,1.00,1.00,1.00,1.00,1.00,1.00,1.00,1.00,1.00,1.00,\n",
        "    1.00,1.00,1.00,1.00,0.72,0.36,1.00,1.00,0.00,0.18,0.40,1.00,0.31,1.00,0.26,0.09,\n",
        "    1.00,1.00,1.00,1.00,1.00,1.00,1.00,1.00,1.00,1.00,1.00,1.00,0.95,0.65,0.43,0.35,\n",
        "    0.36,1.00,0.29,0.15,0.00,0.41,0.27,0.76,0.48,1.00,0.43,0.43,0.17,0.02,0.19,0.29,\n",
        "    0.98,0.94,0.89,0.81,0.73,0.68,0.62,0.61,0.43,0.78,0.23,0.37,0.73,0.58,0.36,0.98,\n",
        "    0.99,0.99,0.96,0.93\n",
        "\n",
        "0530,8,9,1,20.1,0.23,64.9,1.52,69.4,1.27\n",
        "\n",
        "0534,98,-4.0,-4.0,-4.0,-4.0,-4.0,-4.0,-4.0,-4.0,-4.0,-4.0,-4.0,-4.0,-4.0,-4.0,-4.0,\n",
        "    -4.0,-4.0,-4.0,-4.0,-4.0,-4.0,-4.0,-4.0,-4.0,-4.0,-4.0,-4.0,-4.0,-4.0,-4.0,-3.0,\n",
        "    -3.0,-3.0,-3.0,-3.0,-2.5,-3.0,-3.0,-2.0,-2.0,-2.5,-3.0,-2.0,-3.0,-2.0,-1.0,-3.0,\n",
        "    -3.0,-3.0,-3.0,-3.0,-3.0,-3.0,-3.0,-3.0,-3.0,-3.0,-3.0,-3.0,-3.0,-2.0,-2.0,-2.0,\n",
        "    -3.0,-2.0,-1.0,-1.0,-2.0,-2.0,-2.5,-2.5,-3.0,-2.0,-2.0,-1.0,-1.0,-1.0,-1.5,-3.0,\n",
        "    -3.0,-3.0,-3.0,-2.5,-2.5,-2.5,-2.0,-2.0,-2.0,-1.0,-1.5,-1.0,-1.0,-1.0,-1.0,-1.0,\n",
        "    -5.0,-1.0,-1.0\n",
        "    \n",
        "0601,98,4.09,4.04,3.95,3.92,3.90,3.86,3.84,3.30,3.00,2.99,2.97,2.95,2.94,3.60,3.56,\n",
        "    2.89,2.89,2.86,2.84,2.83,2.81,2.79,2.78,2.75,2.73,2.71,2.69,2.66,2.64,2.61,2.92,\n",
        "    2.81,2.84,2.73,2.52,2.08,2.69,2.64,1.62,1.69,2.09,2.71,1.90,2.66,1.76,1.59,2.58,\n",
        "    2.42,2.40,2.43,2.57,2.48,2.47,2.37,2.34,2.31,2.28,2.25,2.22,2.12,1.79,1.61,1.58,\n",
        "    2.11,1.41,1.20,1.17,1.63,1.40,2.06,1.74,2.07,1.56,1.52,1.04,0.97,1.05,1.26,1.98,\n",
        "    1.96,1.93,1.91,1.87,1.83,1.78,1.75,1.23,1.72,0.84,1.02,1.26,1.16,0.88,0.85,0.84,\n",
        "    4.00,0.67,0.51\n",
        "\n",
        "\n",
        "```\n",
        "\n"
      ]
    },
    {
      "cell_type": "code",
      "metadata": {
        "id": "s-v5gkMlRw_x"
      },
      "source": [
        "def build_answer_str(answer_dict: dict, features: list) -> str:\n",
        "    answer = ''\n",
        "    for key in features:\n",
        "        ans_part = answer_dict.get(key)\n",
        "        if ans_part is None:\n",
        "            ans_part = '0'\n",
        "            if key == '0530':\n",
        "                ans_part = 7*'0,'+'0'\n",
        "        answer += ans_part + ','\n",
        "    return answer[0:-1]+'\\n'"
      ],
      "execution_count": null,
      "outputs": []
    },
    {
      "cell_type": "code",
      "metadata": {
        "id": "XZfIJGpSSAFP"
      },
      "source": [
        "def find_mean(feat_str: str) -> float:\n",
        "    elems = [float(num_str) for num_str in feat_str.split(sep=',')]\n",
        "    for elem in elems:\n",
        "        print(elem)\n",
        "    return sum(elems[1:]) / elems[0]"
      ],
      "execution_count": null,
      "outputs": []
    },
    {
      "cell_type": "code",
      "metadata": {
        "id": "SHgXyLnpSBpa"
      },
      "source": [
        "def parse_snowpack(path_in, path_out):\n",
        "    features = ['0500', '0509', '0530', '0534', '0601']\n",
        "    fin = open(path_in, \"r\")\n",
        "    fout = open(path_out, \"w\")\n",
        "    is_a_day = False\n",
        "    has_0509 = False\n",
        "    has_0530 = False\n",
        "    has_0534 = False\n",
        "    has_0601 = False\n",
        "    answer_dict = dict()\n",
        "    for line in fin.readlines():\n",
        "        line_prefix = line[0:4]\n",
        "        if line_prefix == features[0]:\n",
        "            date_str = line[5:15]\n",
        "            date_index = convert_date_to_index(date_str)\n",
        "            if not is_a_day:\n",
        "                is_a_day = True\n",
        "            else:\n",
        "                has_0509 = False\n",
        "                has_0530 = False\n",
        "                has_0534 = False\n",
        "                has_0601 = False\n",
        "                answer = build_answer_str(answer_dict, features)\n",
        "                fout.writelines([answer])\n",
        "                answer_dict = dict()\n",
        "            answer_dict.update({features[0]: date_index})\n",
        "        elif line_prefix == features[1]:\n",
        "            if not has_0509:\n",
        "                has_0509 = True\n",
        "            else:\n",
        "                print(\"Feature 0509 error in line: \" + line)\n",
        "                break\n",
        "            feat_str = str(find_mean(line[5:]))\n",
        "            answer_dict.update({features[1]: feat_str})\n",
        "        elif line_prefix == features[2]:\n",
        "            if not has_0530:\n",
        "                has_0530 = True\n",
        "            else:\n",
        "                print(\"Feature 0530 error in line: \" + line)\n",
        "                break\n",
        "            feat_str = line[7:-1]\n",
        "            answer_dict.update({features[2]: feat_str})\n",
        "        elif line_prefix == features[3]:\n",
        "            if not has_0534:\n",
        "                has_0534 = True\n",
        "            else:\n",
        "                print(\"Feature 0534 error in line: \" + line)\n",
        "                break\n",
        "            feat_str = str(find_mean(line[5:]))\n",
        "            answer_dict.update({features[3]: feat_str})\n",
        "        elif line_prefix == features[4]:\n",
        "            if not has_0601:\n",
        "                has_0601 = True\n",
        "            else:\n",
        "                print(\"Feature 0601 error in line: \" + line)\n",
        "                break\n",
        "            feat_str = str(find_mean(line[5:]))\n",
        "            answer_dict.update({features[4]: feat_str})"
      ],
      "execution_count": null,
      "outputs": []
    },
    {
      "cell_type": "code",
      "metadata": {
        "id": "ZRgfvRvuSDtj"
      },
      "source": [
        "# date_str example: 19.02.2001\n",
        "def convert_date_to_index(date_str):\n",
        "    index_str = date_str[6:] + date_str[3:5] + date_str[0:2]\n",
        "    return index_str"
      ],
      "execution_count": null,
      "outputs": []
    },
    {
      "cell_type": "code",
      "metadata": {
        "id": "HUFR-kxbSF1D"
      },
      "source": [
        "# tests\n",
        "# test 1\n",
        "print(convert_date_to_index('19.02.2001'))"
      ],
      "execution_count": null,
      "outputs": []
    },
    {
      "cell_type": "code",
      "metadata": {
        "id": "Y8vBjPkgSHmj"
      },
      "source": [
        "# test 2\n",
        "test_features = ['0500', '0509', '0530', '0534', '0601']\n",
        "test_answ_dict = dict({\n",
        "                       test_features[0]: '132321',\n",
        "                       test_features[1]: '132555',\n",
        "                       test_features[3]: '13888',\n",
        "                       test_features[4]: '1777'\n",
        "                       })\n",
        "print(build_answer_str(test_answ_dict, test_features))"
      ],
      "execution_count": null,
      "outputs": []
    },
    {
      "cell_type": "code",
      "metadata": {
        "id": "4ZTgP9_nSIsE"
      },
      "source": [
        "# test 3\n",
        "some_str = '5,1,2,3,4,5'\n",
        "print(\"mean is: \" + str(find_mean(some_str)))"
      ],
      "execution_count": null,
      "outputs": []
    },
    {
      "cell_type": "code",
      "metadata": {
        "id": "wlTqKLdgSJtU"
      },
      "source": [
        "# test 4\n",
        "parse_snowpack('WFJ2.pro', 'snowpack_parsed.csv')"
      ],
      "execution_count": null,
      "outputs": []
    }
  ]
}