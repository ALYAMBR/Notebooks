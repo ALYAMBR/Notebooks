{
  "nbformat": 4,
  "nbformat_minor": 0,
  "metadata": {
    "colab": {
      "name": "diplom_scripts.ipynb",
      "provenance": [],
      "collapsed_sections": [],
      "mount_file_id": "1j6K2z-qrCBrHq6-Xve5J0CCAKPYgXiub",
      "authorship_tag": "ABX9TyMaigXgLuisY00Z7mc9s3Sc",
      "include_colab_link": true
    },
    "kernelspec": {
      "name": "python3",
      "display_name": "Python 3"
    }
  },
  "cells": [
    {
      "cell_type": "markdown",
      "metadata": {
        "id": "view-in-github",
        "colab_type": "text"
      },
      "source": [
        "<a href=\"https://colab.research.google.com/github/ALYAMBR/Notebooks/blob/master/diplom_scripts.ipynb\" target=\"_parent\"><img src=\"https://colab.research.google.com/assets/colab-badge.svg\" alt=\"Open In Colab\"/></a>"
      ]
    },
    {
      "cell_type": "markdown",
      "metadata": {
        "id": "53493DZK3xEe"
      },
      "source": [
        "#Генерация временных периодов"
      ]
    },
    {
      "cell_type": "code",
      "metadata": {
        "id": "KtacWIG731gd"
      },
      "source": [
        "import pandas as pd\n",
        "import numpy as np"
      ],
      "execution_count": 1,
      "outputs": []
    },
    {
      "cell_type": "code",
      "metadata": {
        "id": "mOz_HJPw2NhZ"
      },
      "source": [
        "start_date = np.datetime64(\"1999-08-04T12:00\")"
      ],
      "execution_count": 2,
      "outputs": []
    },
    {
      "cell_type": "code",
      "metadata": {
        "id": "a0HD4KmbeczP"
      },
      "source": [
        "period = np.timedelta64(160, 'D')"
      ],
      "execution_count": 3,
      "outputs": []
    },
    {
      "cell_type": "code",
      "metadata": {
        "id": "ot_LBmMtevp3"
      },
      "source": [
        "finish_date = np.datetime64(\"2019-05-07T12:00\")"
      ],
      "execution_count": 4,
      "outputs": []
    },
    {
      "cell_type": "code",
      "metadata": {
        "id": "zFDQL6oJis5T"
      },
      "source": [
        "dates = [start_date]"
      ],
      "execution_count": 5,
      "outputs": []
    },
    {
      "cell_type": "code",
      "metadata": {
        "id": "BwBE7P-ti36b"
      },
      "source": [
        "while start_date <= finish_date:\n",
        "    dates.append(start_date + period)\n",
        "    start_date += period"
      ],
      "execution_count": 6,
      "outputs": []
    },
    {
      "cell_type": "code",
      "metadata": {
        "id": "HECcXB6UjMW0"
      },
      "source": [
        "str_dates = []"
      ],
      "execution_count": 7,
      "outputs": []
    },
    {
      "cell_type": "code",
      "metadata": {
        "id": "EAmcXRaqjCeT"
      },
      "source": [
        "for date in dates:\n",
        "    str_dates.append(str(date))"
      ],
      "execution_count": 8,
      "outputs": []
    },
    {
      "cell_type": "code",
      "metadata": {
        "id": "LHiBXcILjf8N",
        "colab": {
          "base_uri": "https://localhost:8080/"
        },
        "outputId": "5edb7e91-4631-4245-899b-16ab8e2073db"
      },
      "source": [
        "str_dates"
      ],
      "execution_count": 9,
      "outputs": [
        {
          "output_type": "execute_result",
          "data": {
            "text/plain": [
              "['1999-08-04T12:00',\n",
              " '2000-01-11T12:00',\n",
              " '2000-06-19T12:00',\n",
              " '2000-11-26T12:00',\n",
              " '2001-05-05T12:00',\n",
              " '2001-10-12T12:00',\n",
              " '2002-03-21T12:00',\n",
              " '2002-08-28T12:00',\n",
              " '2003-02-04T12:00',\n",
              " '2003-07-14T12:00',\n",
              " '2003-12-21T12:00',\n",
              " '2004-05-29T12:00',\n",
              " '2004-11-05T12:00',\n",
              " '2005-04-14T12:00',\n",
              " '2005-09-21T12:00',\n",
              " '2006-02-28T12:00',\n",
              " '2006-08-07T12:00',\n",
              " '2007-01-14T12:00',\n",
              " '2007-06-23T12:00',\n",
              " '2007-11-30T12:00',\n",
              " '2008-05-08T12:00',\n",
              " '2008-10-15T12:00',\n",
              " '2009-03-24T12:00',\n",
              " '2009-08-31T12:00',\n",
              " '2010-02-07T12:00',\n",
              " '2010-07-17T12:00',\n",
              " '2010-12-24T12:00',\n",
              " '2011-06-02T12:00',\n",
              " '2011-11-09T12:00',\n",
              " '2012-04-17T12:00',\n",
              " '2012-09-24T12:00',\n",
              " '2013-03-03T12:00',\n",
              " '2013-08-10T12:00',\n",
              " '2014-01-17T12:00',\n",
              " '2014-06-26T12:00',\n",
              " '2014-12-03T12:00',\n",
              " '2015-05-12T12:00',\n",
              " '2015-10-19T12:00',\n",
              " '2016-03-27T12:00',\n",
              " '2016-09-03T12:00',\n",
              " '2017-02-10T12:00',\n",
              " '2017-07-20T12:00',\n",
              " '2017-12-27T12:00',\n",
              " '2018-06-05T12:00',\n",
              " '2018-11-12T12:00',\n",
              " '2019-04-21T12:00',\n",
              " '2019-09-28T12:00']"
            ]
          },
          "metadata": {
            "tags": []
          },
          "execution_count": 9
        }
      ]
    },
    {
      "cell_type": "markdown",
      "metadata": {
        "id": "Q3KCir8j5Ocj"
      },
      "source": [
        "#Генерация скриптов run.sh"
      ]
    },
    {
      "cell_type": "code",
      "metadata": {
        "id": "K_UrNCKq5R_F"
      },
      "source": [
        "script_part_1 = '#!/bin/bash\\n TOOL=\"valgrind --tool=callgrind --simulate-cache=yes --dump-instr=yes\"\\n TOOL=\"/software/bin/valgrind --tool=memcheck --leak-check=full --show-reachable=yes --track-origins=yes --log-fd=2\"\\n TOOL=\"time\"\\n TOOL=\"\" \\n ${TOOL} snowpack -c exper1.ini -m operational  STATION1 -b '\n",
        "script_part_2 = ' -e '"
      ],
      "execution_count": 10,
      "outputs": []
    },
    {
      "cell_type": "code",
      "metadata": {
        "id": "BVFq8-uZ6Z-c"
      },
      "source": [
        "leng = len(str_dates)"
      ],
      "execution_count": 14,
      "outputs": []
    },
    {
      "cell_type": "code",
      "metadata": {
        "id": "f4r07MJb9cct"
      },
      "source": [
        "for i, start_date in enumerate(str_dates):\n",
        "    if i == leng - 1:\n",
        "        break\n",
        "    f = open(\"/content/drive/MyDrive/Diplom/run_scripts/run\"+str(i)+\".sh\", \"x\")\n",
        "    f.write(script_part_1 + start_date + script_part_2 + str_dates[i + 1])\n",
        "    f.close()"
      ],
      "execution_count": 19,
      "outputs": []
    }
  ]
}