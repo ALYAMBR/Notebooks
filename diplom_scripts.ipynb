{
  "nbformat": 4,
  "nbformat_minor": 0,
  "metadata": {
    "colab": {
      "name": "diplom_scripts.ipynb",
      "provenance": [],
      "collapsed_sections": [],
      "authorship_tag": "ABX9TyNjgrN2BsMP1iIg8iAnFJr1",
      "include_colab_link": true
    },
    "kernelspec": {
      "name": "python3",
      "display_name": "Python 3"
    }
  },
  "cells": [
    {
      "cell_type": "markdown",
      "metadata": {
        "id": "view-in-github",
        "colab_type": "text"
      },
      "source": [
        "<a href=\"https://colab.research.google.com/github/ALYAMBR/Notebooks/blob/master/diplom_scripts.ipynb\" target=\"_parent\"><img src=\"https://colab.research.google.com/assets/colab-badge.svg\" alt=\"Open In Colab\"/></a>"
      ]
    },
    {
      "cell_type": "markdown",
      "metadata": {
        "id": "53493DZK3xEe"
      },
      "source": [
        "#Генерация временных периодов"
      ]
    },
    {
      "cell_type": "code",
      "metadata": {
        "id": "KtacWIG731gd"
      },
      "source": [
        "import pandas as pd\n",
        "import numpy as np"
      ],
      "execution_count": 2,
      "outputs": []
    },
    {
      "cell_type": "code",
      "metadata": {
        "id": "mOz_HJPw2NhZ"
      },
      "source": [
        "start_date = np.datetime64(\"1999-08-04T12:00\")"
      ],
      "execution_count": 3,
      "outputs": []
    },
    {
      "cell_type": "code",
      "metadata": {
        "id": "a0HD4KmbeczP"
      },
      "source": [
        "period = np.timedelta64(160, 'D')"
      ],
      "execution_count": 5,
      "outputs": []
    },
    {
      "cell_type": "code",
      "metadata": {
        "id": "ot_LBmMtevp3"
      },
      "source": [
        "finish_date = np.datetime64(\"2019-05-07T12:00\")"
      ],
      "execution_count": 8,
      "outputs": []
    },
    {
      "cell_type": "code",
      "metadata": {
        "id": "zFDQL6oJis5T"
      },
      "source": [
        "dates = [start_date]"
      ],
      "execution_count": 10,
      "outputs": []
    },
    {
      "cell_type": "code",
      "metadata": {
        "id": "BwBE7P-ti36b"
      },
      "source": [
        "while start_date <= finish_date:\n",
        "    dates.append(start_date + period)\n",
        "    start_date += period"
      ],
      "execution_count": 11,
      "outputs": []
    },
    {
      "cell_type": "code",
      "metadata": {
        "id": "HECcXB6UjMW0"
      },
      "source": [
        "str_dates = []"
      ],
      "execution_count": 15,
      "outputs": []
    },
    {
      "cell_type": "code",
      "metadata": {
        "id": "EAmcXRaqjCeT"
      },
      "source": [
        "for date in dates:\n",
        "    str_dates.append(str(date))"
      ],
      "execution_count": 16,
      "outputs": []
    },
    {
      "cell_type": "code",
      "metadata": {
        "id": "LHiBXcILjf8N"
      },
      "source": [
        "str_dates"
      ],
      "execution_count": null,
      "outputs": []
    }
  ]
}