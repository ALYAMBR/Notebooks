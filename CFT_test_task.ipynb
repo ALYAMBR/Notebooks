{
  "nbformat": 4,
  "nbformat_minor": 0,
  "metadata": {
    "colab": {
      "name": "CFT_test_task.ipynb",
      "provenance": [],
      "collapsed_sections": [
        "G41XLeN7KQw9",
        "i1TSLETxKVjM",
        "_C9QIi4BKZQZ",
        "_7sU_nZUKccz"
      ],
      "mount_file_id": "1eCVPuXHlhzCXnkZGixbehnARTgYdRmcf",
      "authorship_tag": "ABX9TyP39H0C0NYEPBeGT94Btfqw",
      "include_colab_link": true
    },
    "kernelspec": {
      "name": "python3",
      "display_name": "Python 3"
    }
  },
  "cells": [
    {
      "cell_type": "markdown",
      "metadata": {
        "id": "view-in-github",
        "colab_type": "text"
      },
      "source": [
        "<a href=\"https://colab.research.google.com/github/ALYAMBR/Notebooks/blob/master/CFT_test_task.ipynb\" target=\"_parent\"><img src=\"https://colab.research.google.com/assets/colab-badge.svg\" alt=\"Open In Colab\"/></a>"
      ]
    },
    {
      "cell_type": "markdown",
      "metadata": {
        "id": "WsFe-2ZaKGo0"
      },
      "source": [
        "#Загрузка файлов"
      ]
    },
    {
      "cell_type": "markdown",
      "metadata": {
        "id": "wdlnQaqO8kwu"
      },
      "source": [
        "Загрузим архив с данными с гуглдрайва и распакуем."
      ]
    },
    {
      "cell_type": "code",
      "metadata": {
        "id": "nHJFn3dP69SL"
      },
      "source": [
        "!cp /content/drive/MyDrive/Datasets/hw_cft.zip /content/hw_cft.zip"
      ],
      "execution_count": 1,
      "outputs": []
    },
    {
      "cell_type": "code",
      "metadata": {
        "colab": {
          "base_uri": "https://localhost:8080/"
        },
        "id": "hVAnDQDZ8Xw3",
        "outputId": "e6269dc0-6710-4335-af1a-174d4b5a3eab"
      },
      "source": [
        "!unzip /content/hw_cft.zip"
      ],
      "execution_count": 2,
      "outputs": [
        {
          "output_type": "stream",
          "text": [
            "Archive:  /content/hw_cft.zip\n",
            "  inflating: test.csv                \n",
            "  inflating: train.csv               \n",
            "  inflating: Variable_Definitions.csv  \n"
          ],
          "name": "stdout"
        }
      ]
    },
    {
      "cell_type": "code",
      "metadata": {
        "id": "AranjCvC8ixl"
      },
      "source": [
        "import pandas as pd"
      ],
      "execution_count": 4,
      "outputs": []
    },
    {
      "cell_type": "markdown",
      "metadata": {
        "id": "ghj39Irz8q8G"
      },
      "source": [
        "Загрузим данные в память и посмотрим, что там есть."
      ]
    },
    {
      "cell_type": "code",
      "metadata": {
        "id": "cz46a3iQ8ctE"
      },
      "source": [
        "var_defs = pd.read_csv(\"/content/Variable_Definitions.csv\")"
      ],
      "execution_count": 5,
      "outputs": []
    },
    {
      "cell_type": "code",
      "metadata": {
        "id": "QqD7Vvlf8za7"
      },
      "source": [
        "test_set = pd.read_csv(\"/content/test.csv\")"
      ],
      "execution_count": 6,
      "outputs": []
    },
    {
      "cell_type": "code",
      "metadata": {
        "id": "YWTgcqRV88tR"
      },
      "source": [
        "train_set = pd.read_csv(\"/content/train.csv\")"
      ],
      "execution_count": 7,
      "outputs": []
    },
    {
      "cell_type": "markdown",
      "metadata": {
        "id": "99EPp5KdKLfm"
      },
      "source": [
        "#Изучение данных"
      ]
    },
    {
      "cell_type": "code",
      "metadata": {
        "colab": {
          "base_uri": "https://localhost:8080/",
          "height": 607
        },
        "id": "tEpWhYo58_NZ",
        "outputId": "dc6d47be-9dd8-4448-f09f-c9b2dd740ddb"
      },
      "source": [
        "var_defs"
      ],
      "execution_count": 8,
      "outputs": [
        {
          "output_type": "execute_result",
          "data": {
            "text/html": [
              "<div>\n",
              "<style scoped>\n",
              "    .dataframe tbody tr th:only-of-type {\n",
              "        vertical-align: middle;\n",
              "    }\n",
              "\n",
              "    .dataframe tbody tr th {\n",
              "        vertical-align: top;\n",
              "    }\n",
              "\n",
              "    .dataframe thead th {\n",
              "        text-align: right;\n",
              "    }\n",
              "</style>\n",
              "<table border=\"1\" class=\"dataframe\">\n",
              "  <thead>\n",
              "    <tr style=\"text-align: right;\">\n",
              "      <th></th>\n",
              "      <th>Column Name</th>\n",
              "      <th>Definition</th>\n",
              "    </tr>\n",
              "  </thead>\n",
              "  <tbody>\n",
              "    <tr>\n",
              "      <th>0</th>\n",
              "      <td>TransactionId</td>\n",
              "      <td>Уникальный идентификатор транзакции на платформе</td>\n",
              "    </tr>\n",
              "    <tr>\n",
              "      <th>1</th>\n",
              "      <td>BatchId</td>\n",
              "      <td>Уникальное идентификатор присваевыемый пакету ...</td>\n",
              "    </tr>\n",
              "    <tr>\n",
              "      <th>2</th>\n",
              "      <td>AccountId</td>\n",
              "      <td>Уникальный идентификатор пользователя на платф...</td>\n",
              "    </tr>\n",
              "    <tr>\n",
              "      <th>3</th>\n",
              "      <td>SubscriptionId</td>\n",
              "      <td>Уникальный идентификатор идентифицирующий подп...</td>\n",
              "    </tr>\n",
              "    <tr>\n",
              "      <th>4</th>\n",
              "      <td>CustomerId</td>\n",
              "      <td>Уникальный идентификатор привязанный к аккаунту</td>\n",
              "    </tr>\n",
              "    <tr>\n",
              "      <th>5</th>\n",
              "      <td>CurrencyCode</td>\n",
              "      <td>Валюта страны</td>\n",
              "    </tr>\n",
              "    <tr>\n",
              "      <th>6</th>\n",
              "      <td>CountryCode</td>\n",
              "      <td>Цифровой географический код страны</td>\n",
              "    </tr>\n",
              "    <tr>\n",
              "      <th>7</th>\n",
              "      <td>ProviderId</td>\n",
              "      <td>Поставщик товара</td>\n",
              "    </tr>\n",
              "    <tr>\n",
              "      <th>8</th>\n",
              "      <td>ProductId</td>\n",
              "      <td>Идентификатор купленного товара</td>\n",
              "    </tr>\n",
              "    <tr>\n",
              "      <th>9</th>\n",
              "      <td>ProductCategory</td>\n",
              "      <td>Категория товара</td>\n",
              "    </tr>\n",
              "    <tr>\n",
              "      <th>10</th>\n",
              "      <td>ChannelId</td>\n",
              "      <td>Тип канала по которому прошел платеж web/andro...</td>\n",
              "    </tr>\n",
              "    <tr>\n",
              "      <th>11</th>\n",
              "      <td>Amount</td>\n",
              "      <td>Стоимость сделки. Положительный говорит о спис...</td>\n",
              "    </tr>\n",
              "    <tr>\n",
              "      <th>12</th>\n",
              "      <td>Value</td>\n",
              "      <td>Абсолютное значение суммы</td>\n",
              "    </tr>\n",
              "    <tr>\n",
              "      <th>13</th>\n",
              "      <td>TransactionStartTime</td>\n",
              "      <td>Время начала транзакции</td>\n",
              "    </tr>\n",
              "    <tr>\n",
              "      <th>14</th>\n",
              "      <td>PricingStrategy</td>\n",
              "      <td>Категория ценовой структуры</td>\n",
              "    </tr>\n",
              "    <tr>\n",
              "      <th>15</th>\n",
              "      <td>FraudResult</td>\n",
              "      <td>Фродовый статус транзакции</td>\n",
              "    </tr>\n",
              "    <tr>\n",
              "      <th>16</th>\n",
              "      <td>ClientProfile</td>\n",
              "      <td>Тип профиля клиента по мнения платформы</td>\n",
              "    </tr>\n",
              "    <tr>\n",
              "      <th>17</th>\n",
              "      <td>TrasactionCategory</td>\n",
              "      <td>Рисковость транзакции по мнению внешней системы</td>\n",
              "    </tr>\n",
              "  </tbody>\n",
              "</table>\n",
              "</div>"
            ],
            "text/plain": [
              "             Column Name                                         Definition\n",
              "0          TransactionId   Уникальный идентификатор транзакции на платформе\n",
              "1                BatchId  Уникальное идентификатор присваевыемый пакету ...\n",
              "2              AccountId  Уникальный идентификатор пользователя на платф...\n",
              "3         SubscriptionId  Уникальный идентификатор идентифицирующий подп...\n",
              "4             CustomerId    Уникальный идентификатор привязанный к аккаунту\n",
              "5           CurrencyCode                                      Валюта страны\n",
              "6            CountryCode                 Цифровой географический код страны\n",
              "7             ProviderId                                   Поставщик товара\n",
              "8              ProductId                    Идентификатор купленного товара\n",
              "9        ProductCategory                                   Категория товара\n",
              "10             ChannelId  Тип канала по которому прошел платеж web/andro...\n",
              "11                Amount  Стоимость сделки. Положительный говорит о спис...\n",
              "12                 Value                          Абсолютное значение суммы\n",
              "13  TransactionStartTime                            Время начала транзакции\n",
              "14       PricingStrategy                        Категория ценовой структуры\n",
              "15           FraudResult                         Фродовый статус транзакции\n",
              "16         ClientProfile            Тип профиля клиента по мнения платформы\n",
              "17    TrasactionCategory    Рисковость транзакции по мнению внешней системы"
            ]
          },
          "metadata": {
            "tags": []
          },
          "execution_count": 8
        }
      ]
    },
    {
      "cell_type": "markdown",
      "metadata": {
        "id": "UKAtSvkO9EgE"
      },
      "source": [
        "Тут описание переменных. Фродовый статус транзакции это целевая переменная."
      ]
    },
    {
      "cell_type": "code",
      "metadata": {
        "colab": {
          "base_uri": "https://localhost:8080/",
          "height": 439
        },
        "id": "3l3sC74g9PwS",
        "outputId": "8c4ccc47-a71b-4c42-8803-372947e376d9"
      },
      "source": [
        "train_set"
      ],
      "execution_count": 10,
      "outputs": [
        {
          "output_type": "execute_result",
          "data": {
            "text/html": [
              "<div>\n",
              "<style scoped>\n",
              "    .dataframe tbody tr th:only-of-type {\n",
              "        vertical-align: middle;\n",
              "    }\n",
              "\n",
              "    .dataframe tbody tr th {\n",
              "        vertical-align: top;\n",
              "    }\n",
              "\n",
              "    .dataframe thead th {\n",
              "        text-align: right;\n",
              "    }\n",
              "</style>\n",
              "<table border=\"1\" class=\"dataframe\">\n",
              "  <thead>\n",
              "    <tr style=\"text-align: right;\">\n",
              "      <th></th>\n",
              "      <th>TransactionId</th>\n",
              "      <th>BatchId</th>\n",
              "      <th>AccountId</th>\n",
              "      <th>SubscriptionId</th>\n",
              "      <th>CustomerId</th>\n",
              "      <th>CurrencyCode</th>\n",
              "      <th>CountryCode</th>\n",
              "      <th>ProviderId</th>\n",
              "      <th>ProductId</th>\n",
              "      <th>ProductCategory</th>\n",
              "      <th>ChannelId</th>\n",
              "      <th>Amount</th>\n",
              "      <th>Value</th>\n",
              "      <th>TransactionStartTime</th>\n",
              "      <th>PricingStrategy</th>\n",
              "      <th>FraudResult</th>\n",
              "      <th>ClientProfile</th>\n",
              "      <th>TrasactionCategory</th>\n",
              "    </tr>\n",
              "  </thead>\n",
              "  <tbody>\n",
              "    <tr>\n",
              "      <th>0</th>\n",
              "      <td>76871</td>\n",
              "      <td>36123</td>\n",
              "      <td>3957</td>\n",
              "      <td>887</td>\n",
              "      <td>4406</td>\n",
              "      <td>EUR</td>\n",
              "      <td>49</td>\n",
              "      <td>6</td>\n",
              "      <td>10</td>\n",
              "      <td>airtime</td>\n",
              "      <td>3</td>\n",
              "      <td>1000.0</td>\n",
              "      <td>1000</td>\n",
              "      <td>2018-11-15 02:18:49</td>\n",
              "      <td>2</td>\n",
              "      <td>0</td>\n",
              "      <td>4</td>\n",
              "      <td>3</td>\n",
              "    </tr>\n",
              "    <tr>\n",
              "      <th>1</th>\n",
              "      <td>73770</td>\n",
              "      <td>15642</td>\n",
              "      <td>4841</td>\n",
              "      <td>3829</td>\n",
              "      <td>4406</td>\n",
              "      <td>EUR</td>\n",
              "      <td>49</td>\n",
              "      <td>4</td>\n",
              "      <td>6</td>\n",
              "      <td>financial_services</td>\n",
              "      <td>2</td>\n",
              "      <td>-20.0</td>\n",
              "      <td>20</td>\n",
              "      <td>2018-11-15 02:19:08</td>\n",
              "      <td>2</td>\n",
              "      <td>0</td>\n",
              "      <td>0</td>\n",
              "      <td>2</td>\n",
              "    </tr>\n",
              "    <tr>\n",
              "      <th>2</th>\n",
              "      <td>26203</td>\n",
              "      <td>53941</td>\n",
              "      <td>4229</td>\n",
              "      <td>222</td>\n",
              "      <td>4683</td>\n",
              "      <td>EUR</td>\n",
              "      <td>49</td>\n",
              "      <td>6</td>\n",
              "      <td>1</td>\n",
              "      <td>airtime</td>\n",
              "      <td>3</td>\n",
              "      <td>500.0</td>\n",
              "      <td>500</td>\n",
              "      <td>2018-11-15 02:44:21</td>\n",
              "      <td>2</td>\n",
              "      <td>0</td>\n",
              "      <td>3</td>\n",
              "      <td>2</td>\n",
              "    </tr>\n",
              "    <tr>\n",
              "      <th>3</th>\n",
              "      <td>380</td>\n",
              "      <td>102363</td>\n",
              "      <td>648</td>\n",
              "      <td>2185</td>\n",
              "      <td>988</td>\n",
              "      <td>EUR</td>\n",
              "      <td>49</td>\n",
              "      <td>1</td>\n",
              "      <td>21</td>\n",
              "      <td>utility_bill</td>\n",
              "      <td>3</td>\n",
              "      <td>20000.0</td>\n",
              "      <td>21800</td>\n",
              "      <td>2018-11-15 03:32:55</td>\n",
              "      <td>2</td>\n",
              "      <td>0</td>\n",
              "      <td>3</td>\n",
              "      <td>1</td>\n",
              "    </tr>\n",
              "    <tr>\n",
              "      <th>4</th>\n",
              "      <td>28195</td>\n",
              "      <td>38780</td>\n",
              "      <td>4841</td>\n",
              "      <td>3829</td>\n",
              "      <td>988</td>\n",
              "      <td>EUR</td>\n",
              "      <td>49</td>\n",
              "      <td>4</td>\n",
              "      <td>6</td>\n",
              "      <td>financial_services</td>\n",
              "      <td>2</td>\n",
              "      <td>-644.0</td>\n",
              "      <td>644</td>\n",
              "      <td>2018-11-15 03:34:21</td>\n",
              "      <td>2</td>\n",
              "      <td>0</td>\n",
              "      <td>0</td>\n",
              "      <td>3</td>\n",
              "    </tr>\n",
              "    <tr>\n",
              "      <th>...</th>\n",
              "      <td>...</td>\n",
              "      <td>...</td>\n",
              "      <td>...</td>\n",
              "      <td>...</td>\n",
              "      <td>...</td>\n",
              "      <td>...</td>\n",
              "      <td>...</td>\n",
              "      <td>...</td>\n",
              "      <td>...</td>\n",
              "      <td>...</td>\n",
              "      <td>...</td>\n",
              "      <td>...</td>\n",
              "      <td>...</td>\n",
              "      <td>...</td>\n",
              "      <td>...</td>\n",
              "      <td>...</td>\n",
              "      <td>...</td>\n",
              "      <td>...</td>\n",
              "    </tr>\n",
              "    <tr>\n",
              "      <th>79885</th>\n",
              "      <td>18019</td>\n",
              "      <td>129395</td>\n",
              "      <td>4841</td>\n",
              "      <td>3829</td>\n",
              "      <td>3795</td>\n",
              "      <td>EUR</td>\n",
              "      <td>49</td>\n",
              "      <td>4</td>\n",
              "      <td>6</td>\n",
              "      <td>financial_services</td>\n",
              "      <td>2</td>\n",
              "      <td>-5000.0</td>\n",
              "      <td>5000</td>\n",
              "      <td>2019-01-31 23:08:18</td>\n",
              "      <td>2</td>\n",
              "      <td>0</td>\n",
              "      <td>0</td>\n",
              "      <td>1</td>\n",
              "    </tr>\n",
              "    <tr>\n",
              "      <th>79886</th>\n",
              "      <td>102758</td>\n",
              "      <td>87434</td>\n",
              "      <td>2577</td>\n",
              "      <td>3326</td>\n",
              "      <td>2994</td>\n",
              "      <td>EUR</td>\n",
              "      <td>49</td>\n",
              "      <td>5</td>\n",
              "      <td>1</td>\n",
              "      <td>airtime</td>\n",
              "      <td>3</td>\n",
              "      <td>1000.0</td>\n",
              "      <td>1000</td>\n",
              "      <td>2019-01-31 23:44:44</td>\n",
              "      <td>4</td>\n",
              "      <td>0</td>\n",
              "      <td>3</td>\n",
              "      <td>1</td>\n",
              "    </tr>\n",
              "    <tr>\n",
              "      <th>79887</th>\n",
              "      <td>10757</td>\n",
              "      <td>114753</td>\n",
              "      <td>4841</td>\n",
              "      <td>3829</td>\n",
              "      <td>2994</td>\n",
              "      <td>EUR</td>\n",
              "      <td>49</td>\n",
              "      <td>4</td>\n",
              "      <td>6</td>\n",
              "      <td>financial_services</td>\n",
              "      <td>2</td>\n",
              "      <td>-50.0</td>\n",
              "      <td>50</td>\n",
              "      <td>2019-01-31 23:45:42</td>\n",
              "      <td>2</td>\n",
              "      <td>0</td>\n",
              "      <td>0</td>\n",
              "      <td>2</td>\n",
              "    </tr>\n",
              "    <tr>\n",
              "      <th>79888</th>\n",
              "      <td>104292</td>\n",
              "      <td>100831</td>\n",
              "      <td>2669</td>\n",
              "      <td>2002</td>\n",
              "      <td>3088</td>\n",
              "      <td>EUR</td>\n",
              "      <td>49</td>\n",
              "      <td>5</td>\n",
              "      <td>15</td>\n",
              "      <td>financial_services</td>\n",
              "      <td>3</td>\n",
              "      <td>45000.0</td>\n",
              "      <td>45000</td>\n",
              "      <td>2019-01-31 23:51:33</td>\n",
              "      <td>2</td>\n",
              "      <td>0</td>\n",
              "      <td>2</td>\n",
              "      <td>3</td>\n",
              "    </tr>\n",
              "    <tr>\n",
              "      <th>79889</th>\n",
              "      <td>54329</td>\n",
              "      <td>11357</td>\n",
              "      <td>572</td>\n",
              "      <td>2950</td>\n",
              "      <td>909</td>\n",
              "      <td>EUR</td>\n",
              "      <td>49</td>\n",
              "      <td>1</td>\n",
              "      <td>15</td>\n",
              "      <td>financial_services</td>\n",
              "      <td>3</td>\n",
              "      <td>50000.0</td>\n",
              "      <td>50000</td>\n",
              "      <td>2019-01-31 23:54:12</td>\n",
              "      <td>2</td>\n",
              "      <td>0</td>\n",
              "      <td>1</td>\n",
              "      <td>1</td>\n",
              "    </tr>\n",
              "  </tbody>\n",
              "</table>\n",
              "<p>79890 rows × 18 columns</p>\n",
              "</div>"
            ],
            "text/plain": [
              "       TransactionId  BatchId  ...  ClientProfile  TrasactionCategory\n",
              "0              76871    36123  ...              4                   3\n",
              "1              73770    15642  ...              0                   2\n",
              "2              26203    53941  ...              3                   2\n",
              "3                380   102363  ...              3                   1\n",
              "4              28195    38780  ...              0                   3\n",
              "...              ...      ...  ...            ...                 ...\n",
              "79885          18019   129395  ...              0                   1\n",
              "79886         102758    87434  ...              3                   1\n",
              "79887          10757   114753  ...              0                   2\n",
              "79888         104292   100831  ...              2                   3\n",
              "79889          54329    11357  ...              1                   1\n",
              "\n",
              "[79890 rows x 18 columns]"
            ]
          },
          "metadata": {
            "tags": []
          },
          "execution_count": 10
        }
      ]
    },
    {
      "cell_type": "code",
      "metadata": {
        "colab": {
          "base_uri": "https://localhost:8080/"
        },
        "id": "S5q8UWXgBihS",
        "outputId": "7f201146-6287-467f-9968-0a05a0235ed7"
      },
      "source": [
        "train_set.info()"
      ],
      "execution_count": 26,
      "outputs": [
        {
          "output_type": "stream",
          "text": [
            "<class 'pandas.core.frame.DataFrame'>\n",
            "RangeIndex: 79890 entries, 0 to 79889\n",
            "Data columns (total 18 columns):\n",
            " #   Column                Non-Null Count  Dtype  \n",
            "---  ------                --------------  -----  \n",
            " 0   TransactionId         79890 non-null  int64  \n",
            " 1   BatchId               79890 non-null  int64  \n",
            " 2   AccountId             79890 non-null  int64  \n",
            " 3   SubscriptionId        79890 non-null  int64  \n",
            " 4   CustomerId            79890 non-null  int64  \n",
            " 5   CurrencyCode          79890 non-null  object \n",
            " 6   CountryCode           79890 non-null  int64  \n",
            " 7   ProviderId            79890 non-null  int64  \n",
            " 8   ProductId             79890 non-null  int64  \n",
            " 9   ProductCategory       79890 non-null  object \n",
            " 10  ChannelId             79890 non-null  int64  \n",
            " 11  Amount                79890 non-null  float64\n",
            " 12  Value                 79890 non-null  int64  \n",
            " 13  TransactionStartTime  79890 non-null  object \n",
            " 14  PricingStrategy       79890 non-null  int64  \n",
            " 15  FraudResult           79890 non-null  int64  \n",
            " 16  ClientProfile         79890 non-null  int64  \n",
            " 17  TrasactionCategory    79890 non-null  int64  \n",
            "dtypes: float64(1), int64(14), object(3)\n",
            "memory usage: 11.0+ MB\n"
          ],
          "name": "stdout"
        }
      ]
    },
    {
      "cell_type": "markdown",
      "metadata": {
        "id": "T-_vYNiJDUgU"
      },
      "source": [
        "Поизучаем данные. Затем напишем функцию, которая будет готовить данные к рабочему виду."
      ]
    },
    {
      "cell_type": "markdown",
      "metadata": {
        "id": "G41XLeN7KQw9"
      },
      "source": [
        "##FraudResult"
      ]
    },
    {
      "cell_type": "markdown",
      "metadata": {
        "id": "uT8vI8YEEttL"
      },
      "source": [
        "Начнём с самого главного, посмотрим на соотношение классов."
      ]
    },
    {
      "cell_type": "code",
      "metadata": {
        "colab": {
          "base_uri": "https://localhost:8080/"
        },
        "id": "KD_9f1yxElCV",
        "outputId": "38c53fe8-ceca-4da0-c51d-7e3e750b3a52"
      },
      "source": [
        "train_set.FraudResult.value_counts()"
      ],
      "execution_count": 36,
      "outputs": [
        {
          "output_type": "execute_result",
          "data": {
            "text/plain": [
              "0    79750\n",
              "1      140\n",
              "Name: FraudResult, dtype: int64"
            ]
          },
          "metadata": {
            "tags": []
          },
          "execution_count": 36
        }
      ]
    },
    {
      "cell_type": "markdown",
      "metadata": {
        "id": "s_wDOu5TEzWN"
      },
      "source": [
        "Тут всё как-то печально, на 80 тысяч записей всего 140 мошеннических."
      ]
    },
    {
      "cell_type": "markdown",
      "metadata": {
        "id": "-NKAOIrGCvvW"
      },
      "source": [
        "3 атрибута имеют нечисловой тип. Выясним, что это за данные."
      ]
    },
    {
      "cell_type": "markdown",
      "metadata": {
        "id": "i1TSLETxKVjM"
      },
      "source": [
        "##CurrencyCode"
      ]
    },
    {
      "cell_type": "code",
      "metadata": {
        "colab": {
          "base_uri": "https://localhost:8080/"
        },
        "id": "oWmtucGfCsrD",
        "outputId": "0b94239a-467c-4b28-e8e1-73febb5373e4"
      },
      "source": [
        "train_set.CurrencyCode.unique()"
      ],
      "execution_count": 28,
      "outputs": [
        {
          "output_type": "execute_result",
          "data": {
            "text/plain": [
              "array(['EUR'], dtype=object)"
            ]
          },
          "metadata": {
            "tags": []
          },
          "execution_count": 28
        }
      ]
    },
    {
      "cell_type": "code",
      "metadata": {
        "colab": {
          "base_uri": "https://localhost:8080/"
        },
        "id": "-EGnS5z0DH8w",
        "outputId": "25daf7d7-e214-4fbb-aff9-94f2dca167b3"
      },
      "source": [
        "test_set.CurrencyCode.unique()"
      ],
      "execution_count": 29,
      "outputs": [
        {
          "output_type": "execute_result",
          "data": {
            "text/plain": [
              "array(['EUR'], dtype=object)"
            ]
          },
          "metadata": {
            "tags": []
          },
          "execution_count": 29
        }
      ]
    },
    {
      "cell_type": "markdown",
      "metadata": {
        "id": "GSPRGGOWC6S-"
      },
      "source": [
        "Видим, что данный атрибут окажется при обучении абсолютно бесполезным, так как это константа. Поэтому просто удалим его."
      ]
    },
    {
      "cell_type": "markdown",
      "metadata": {
        "id": "_C9QIi4BKZQZ"
      },
      "source": [
        "##ProductCategory"
      ]
    },
    {
      "cell_type": "code",
      "metadata": {
        "colab": {
          "base_uri": "https://localhost:8080/"
        },
        "id": "CzzcQPleDcL5",
        "outputId": "0b8c3f4f-c104-402a-a40a-d9da1f0a97ee"
      },
      "source": [
        "train_set.ProductCategory.unique()"
      ],
      "execution_count": 30,
      "outputs": [
        {
          "output_type": "execute_result",
          "data": {
            "text/plain": [
              "array(['airtime', 'financial_services', 'utility_bill', 'data_bundles',\n",
              "       'tv', 'transport', 'ticket', 'movies', 'other'], dtype=object)"
            ]
          },
          "metadata": {
            "tags": []
          },
          "execution_count": 30
        }
      ]
    },
    {
      "cell_type": "code",
      "metadata": {
        "colab": {
          "base_uri": "https://localhost:8080/"
        },
        "id": "0niSwE9pDg9j",
        "outputId": "a50e6a16-b989-4a28-fc9e-5b320a7b9ff0"
      },
      "source": [
        "test_set.ProductCategory.unique()"
      ],
      "execution_count": 31,
      "outputs": [
        {
          "output_type": "execute_result",
          "data": {
            "text/plain": [
              "array(['tv', 'financial_services', 'airtime', 'data_bundles',\n",
              "       'utility_bill', 'ticket', 'transport', 'movies'], dtype=object)"
            ]
          },
          "metadata": {
            "tags": []
          },
          "execution_count": 31
        }
      ]
    },
    {
      "cell_type": "code",
      "metadata": {
        "colab": {
          "base_uri": "https://localhost:8080/"
        },
        "id": "4N44KTy8Ea1n",
        "outputId": "cd9e4f19-94fc-4ec8-e1df-a1f7e26ead3d"
      },
      "source": [
        "train_set.ProductCategory.value_counts()"
      ],
      "execution_count": 35,
      "outputs": [
        {
          "output_type": "execute_result",
          "data": {
            "text/plain": [
              "airtime               37715\n",
              "financial_services    37590\n",
              "utility_bill           1575\n",
              "data_bundles           1563\n",
              "tv                     1048\n",
              "ticket                  206\n",
              "movies                  168\n",
              "transport                23\n",
              "other                     2\n",
              "Name: ProductCategory, dtype: int64"
            ]
          },
          "metadata": {
            "tags": []
          },
          "execution_count": 35
        }
      ]
    },
    {
      "cell_type": "markdown",
      "metadata": {
        "id": "2Hfyn04ADqVY"
      },
      "source": [
        "Тут всё хорошо. Во-первых, значения различные, во-вторых, в тренировочных данных есть все категории, которые есть в тестовом, что избавит от проблем неизвестных категорий."
      ]
    },
    {
      "cell_type": "markdown",
      "metadata": {
        "id": "_7sU_nZUKccz"
      },
      "source": [
        "##TransactionStartTime"
      ]
    },
    {
      "cell_type": "code",
      "metadata": {
        "id": "jSTOMPBKKtdK"
      },
      "source": [
        "trans_start_time = train_set.TransactionStartTime"
      ],
      "execution_count": 51,
      "outputs": []
    },
    {
      "cell_type": "code",
      "metadata": {
        "colab": {
          "base_uri": "https://localhost:8080/"
        },
        "id": "M-C0f9DrMHSJ",
        "outputId": "f0ccd602-6062-4c03-99c3-6177b786ccda"
      },
      "source": [
        "trans_start_time"
      ],
      "execution_count": 52,
      "outputs": [
        {
          "output_type": "execute_result",
          "data": {
            "text/plain": [
              "0        2018-11-15 02:18:49\n",
              "1        2018-11-15 02:19:08\n",
              "2        2018-11-15 02:44:21\n",
              "3        2018-11-15 03:32:55\n",
              "4        2018-11-15 03:34:21\n",
              "                ...         \n",
              "79885    2019-01-31 23:08:18\n",
              "79886    2019-01-31 23:44:44\n",
              "79887    2019-01-31 23:45:42\n",
              "79888    2019-01-31 23:51:33\n",
              "79889    2019-01-31 23:54:12\n",
              "Name: TransactionStartTime, Length: 79890, dtype: object"
            ]
          },
          "metadata": {
            "tags": []
          },
          "execution_count": 52
        }
      ]
    },
    {
      "cell_type": "markdown",
      "metadata": {
        "id": "yNh820SQKxO7"
      },
      "source": [
        "Даты как минимум можно конвертировать в числа. Также можно сгенерировать фичи вроде секунд, времени суток. Возможно, это как-то поможет. Хотя без знания предметной области кажется, что время начала транзакции никак не влияет на её фрод статус."
      ]
    },
    {
      "cell_type": "markdown",
      "metadata": {
        "id": "mZvf0mHnRWNg"
      },
      "source": [
        "## CountryCode"
      ]
    },
    {
      "cell_type": "code",
      "metadata": {
        "colab": {
          "base_uri": "https://localhost:8080/"
        },
        "id": "CEaq-pujRYnV",
        "outputId": "7ce4851b-c9c4-4335-bedf-33ce6ccbe545"
      },
      "source": [
        "train_set.CountryCode.unique()"
      ],
      "execution_count": 75,
      "outputs": [
        {
          "output_type": "execute_result",
          "data": {
            "text/plain": [
              "array([49])"
            ]
          },
          "metadata": {
            "tags": []
          },
          "execution_count": 75
        }
      ]
    },
    {
      "cell_type": "code",
      "metadata": {
        "colab": {
          "base_uri": "https://localhost:8080/"
        },
        "id": "IpOzR02-RfQN",
        "outputId": "f2a609c8-ef82-4f2c-ebd2-ef6bdea444b2"
      },
      "source": [
        "test_set.CountryCode.unique()"
      ],
      "execution_count": 76,
      "outputs": [
        {
          "output_type": "execute_result",
          "data": {
            "text/plain": [
              "array([49])"
            ]
          },
          "metadata": {
            "tags": []
          },
          "execution_count": 76
        }
      ]
    },
    {
      "cell_type": "markdown",
      "metadata": {
        "id": "Al0M0-tmRihj"
      },
      "source": [
        "Просто удаляем, так как никакой информации этот признак не несёт."
      ]
    },
    {
      "cell_type": "markdown",
      "metadata": {
        "id": "Qoc5FgcVSVAx"
      },
      "source": [
        "##Amount"
      ]
    },
    {
      "cell_type": "markdown",
      "metadata": {
        "id": "oAYCdhvUSa8A"
      },
      "source": [
        "Можно сгенерировать фичу - дробная составляющая суммы. Так как есть небольшое количество транзакций, в которых сумма не круглое число. И это подозрительно, так как почти все транзакции имеют круглую сумму."
      ]
    },
    {
      "cell_type": "code",
      "metadata": {
        "colab": {
          "base_uri": "https://localhost:8080/"
        },
        "id": "fh6vUy_USZ_T",
        "outputId": "c72850d9-7fe5-4f73-b038-3e477d6d3db3"
      },
      "source": [
        "(train_set.Amount - train_set.Amount.astype(int)).value_counts()"
      ],
      "execution_count": 83,
      "outputs": [
        {
          "output_type": "execute_result",
          "data": {
            "text/plain": [
              " 0.00    79618\n",
              "-0.50      123\n",
              "-0.25       15\n",
              "-0.75       10\n",
              "-0.20        8\n",
              "         ...  \n",
              "-0.40        1\n",
              "-0.45        1\n",
              "-0.90        1\n",
              "-0.45        1\n",
              "-0.90        1\n",
              "Name: Amount, Length: 72, dtype: int64"
            ]
          },
          "metadata": {
            "tags": []
          },
          "execution_count": 83
        }
      ]
    },
    {
      "cell_type": "markdown",
      "metadata": {
        "id": "9C0S5f9jRDZg"
      },
      "source": [
        "##Функция препроцессинга"
      ]
    },
    {
      "cell_type": "markdown",
      "metadata": {
        "id": "hqjgB5QMCRNt"
      },
      "source": [
        "Напишем функцию, в которой к входному датасету будут применяться всякие преобразования."
      ]
    },
    {
      "cell_type": "code",
      "metadata": {
        "id": "rVX1d1_wCmoZ"
      },
      "source": [
        "def prepare_data(data):\n",
        "    data = data.drop(labels=[\"CurrencyCode\", \"CountryCode\"])\n",
        "    data.TransactionStartTime = data.TransactionStartTime.map(lambda x: pd.Timestamp(x)).astype(int)\n",
        "    data.AmountTail = (data.Amount - data.Amount.astype(int))"
      ],
      "execution_count": null,
      "outputs": []
    },
    {
      "cell_type": "markdown",
      "metadata": {
        "id": "3jxY8vrJT7mc"
      },
      "source": [
        "## Разбиение обучающей выборки"
      ]
    },
    {
      "cell_type": "markdown",
      "metadata": {
        "id": "wvxTh7jt9ef9"
      },
      "source": [
        "Разобьём на X и Y для удобства."
      ]
    },
    {
      "cell_type": "code",
      "metadata": {
        "id": "dJgKZU059eGg"
      },
      "source": [
        "train_X = train_set.drop(labels=[\"FraudResult\"], axis=1)"
      ],
      "execution_count": 12,
      "outputs": []
    },
    {
      "cell_type": "code",
      "metadata": {
        "id": "otOAZm0K9b4d"
      },
      "source": [
        "train_Y = train_set.FraudResult"
      ],
      "execution_count": 14,
      "outputs": []
    },
    {
      "cell_type": "markdown",
      "metadata": {
        "id": "qC9w7WcUAKSm"
      },
      "source": [
        "Разобьём на train, valid, test в отношении 3:1:1 ."
      ]
    },
    {
      "cell_type": "code",
      "metadata": {
        "id": "ysWf9xg2AGGd"
      },
      "source": [
        "SEED = 37"
      ],
      "execution_count": 18,
      "outputs": []
    },
    {
      "cell_type": "code",
      "metadata": {
        "id": "yleXUkiwAI2K"
      },
      "source": [
        "from sklearn.model_selection import train_test_split"
      ],
      "execution_count": 19,
      "outputs": []
    },
    {
      "cell_type": "code",
      "metadata": {
        "id": "qK2hPZXBAf_L"
      },
      "source": [
        "train_X, test_X, train_Y, test_Y = train_test_split(train_X, train_Y,\n",
        "                                                    test_size=0.4,\n",
        "                                                    random_state=SEED,\n",
        "                                                    shuffle=True)"
      ],
      "execution_count": 20,
      "outputs": []
    },
    {
      "cell_type": "code",
      "metadata": {
        "id": "gQSHg-IxBNQz"
      },
      "source": [
        "test_X, val_X, test_Y, val_Y = train_test_split(test_X, test_Y,\n",
        "                                                test_size=0.5,\n",
        "                                                random_state=SEED,\n",
        "                                                shuffle=True)"
      ],
      "execution_count": 23,
      "outputs": []
    }
  ]
}